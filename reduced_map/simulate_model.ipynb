{
 "cells": [
  {
   "cell_type": "code",
   "execution_count": 178,
   "metadata": {
    "collapsed": false
   },
   "outputs": [],
   "source": [
    "import sys\n",
    "import matplotlib.pyplot as plt\n",
    "from libsbml import *\n",
    "import tellurium as te"
   ]
  },
  {
   "cell_type": "code",
   "execution_count": 179,
   "metadata": {
    "collapsed": true
   },
   "outputs": [],
   "source": [
    "sbml_path = \"all_groups_fluxes_squeezed.xml\""
   ]
  },
  {
   "cell_type": "code",
   "execution_count": 180,
   "metadata": {
    "collapsed": false
   },
   "outputs": [],
   "source": [
    "reader = SBMLReader()\n",
    "document = reader.readSBMLFromFile(sbml_path)\n",
    "model = document.getModel()"
   ]
  },
  {
   "cell_type": "code",
   "execution_count": 181,
   "metadata": {
    "collapsed": false
   },
   "outputs": [],
   "source": [
    "boundary_true = ['M_atp_c',\n",
    "                'M_adp_c',\n",
    "                'M_amp_c',\n",
    "                'M_nad_c',\n",
    "                'M_nadh_c',\n",
    "                'M_nadp_c',\n",
    "                'M_nadph_c',\n",
    "                'M_co2_c',\n",
    "                'M_h_c',\n",
    "                'M_coa_c',\n",
    "                'M_fad_c',\n",
    "                'M_fadh2_c',\n",
    "                'M_pi_c',\n",
    "                'M_ppi_c',\n",
    "                'M_for_c',\n",
    "                'M_o2_c',\n",
    "                'M_lpam_c',\n",
    "                'M_dhlam_c',\n",
    "                'M_hco3_c',\n",
    "                'M_mql8_c',\n",
    "                'M_mqn8_c',\n",
    "                'M_3mob_c',\n",
    "                'M_8aonn_c',\n",
    "                'M_dann_c',\n",
    "                'M_met__L_c',\n",
    "                #lololo,\n",
    "                'M_acser_c',\n",
    "                'M_acald_c',\n",
    "                'M_3c3hmp_c',\n",
    "                'M_malcoa_c',\n",
    "                'M_lac__D_c',\n",
    "                'M_pep_c',\n",
    "                'M_glu__L_c',\n",
    "                'M_1pyr5c_c',\n",
    "                'M_gln__L_c',\n",
    "                'M_chor_c',\n",
    "                'M_hmbil_c',\n",
    "                'M_cpppg3_c',\n",
    "                'M_dscl_c',\n",
    "                'M_amob_c',\n",
    "                'M_met__L_c',\n",
    "                'M_hcys__L_c',\n",
    "                'M_cys__L_c',\n",
    "                'M_ahcys_c',\n",
    "                'M_adcobdam_c',\n",
    "                'M_adcobhex_c',\n",
    "                'M_hco3_c',\n",
    "                'M_2kmb_c']"
   ]
  },
  {
   "cell_type": "code",
   "execution_count": 182,
   "metadata": {
    "collapsed": false
   },
   "outputs": [],
   "source": [
    "for species in boundary_true:\n",
    "    s = model.getSpecies(species)\n",
    "    #print(species + \" : \" + str(s == None))\n",
    "    s.setBoundaryCondition(True)"
   ]
  },
  {
   "cell_type": "code",
   "execution_count": 183,
   "metadata": {
    "collapsed": true
   },
   "outputs": [],
   "source": [
    "def set_kf(reaction, kf):\n",
    "    kfs = 'kf_'\n",
    "    kin = reaction.getKineticLaw()\n",
    "    param = kin.getLocalParameter(kfs + reaction.getId())\n",
    "    param.setValue(kf)\n",
    "    \n",
    "def set_kbd(reaction, k):\n",
    "    kfs = 'kf_'\n",
    "    krs = 'kr_'\n",
    "    kin = reaction.getKineticLaw()\n",
    "    param_f = kin.getLocalParameter(kfs + reaction.getId())\n",
    "    param_f.setValue(k)\n",
    "    param_r = kin.getLocalParameter(krs + reaction.getId())\n",
    "    param_r.setValue(k)\n",
    "    "
   ]
  },
  {
   "cell_type": "code",
   "execution_count": 193,
   "metadata": {
    "collapsed": false
   },
   "outputs": [],
   "source": [
    "#set_kf(model.getReaction('R_ME1'), 1000)   \n",
    "#set_kf(model.getReaction('R_PC'), 0.001)   \n",
    "#set_kf(model.getReaction('R_POX2'), 0.001)\n",
    "#set_kf(model.getReaction('R_MDH3'), 0.001) \n",
    "#set_kf(model.getReaction('R_ACS'), 0.001) \n",
    "#set_kf(model.getReaction('R_AKGDb'), 1) \n",
    "\n",
    "set_kf(model.getReaction('R_MDH3'), 0)\n",
    "set_kbd(model.getReaction('R_MDH'), 0)\n",
    "#set_kf(model.getReaction('R_PPCK'), 0)\n",
    "set_kf(model.getReaction('R_PC'), 0)\n",
    "set_kbd(model.getReaction('R_ICDHyr'), 0)\n",
    "#set_kf(model.getReaction('R_PPCK'), 0)\n"
   ]
  },
  {
   "cell_type": "code",
   "execution_count": 194,
   "metadata": {
    "collapsed": false
   },
   "outputs": [
    {
     "data": {
      "text/plain": [
       "True"
      ]
     },
     "execution_count": 194,
     "metadata": {},
     "output_type": "execute_result"
    }
   ],
   "source": [
    "outfile = 'all_groups_with_fluxes_and_boundaries.xml'\n",
    "writer = SBMLWriter()\n",
    "writer.writeSBMLToFile(model.getSBMLDocument(), outfile)"
   ]
  },
  {
   "cell_type": "code",
   "execution_count": 195,
   "metadata": {
    "collapsed": false
   },
   "outputs": [],
   "source": [
    "sbml_model = te.loadSBMLModel(outfile)"
   ]
  },
  {
   "cell_type": "code",
   "execution_count": 196,
   "metadata": {
    "collapsed": false
   },
   "outputs": [],
   "source": [
    "#antimony = te.sbmlToAntimony(sbml_path)\n",
    "\n",
    " \n",
    "\n",
    "def plot(simulation, xrange=None, yrange=None, columns=None, species_labels=None, xscale='linear', yscale='linear', autolegend=True, legend=True, linewidth=2.0):\n",
    "    plt.xscale(xscale)\n",
    "    plt.yscale(yscale)\n",
    "    \n",
    "    if columns is None:\n",
    "        columns = simulation.colnames[1:]\n",
    "    \n",
    "    if species_labels != None and len(columns)!=len(species_labels):\n",
    "        return\n",
    "    \n",
    "    label_index = 0\n",
    "    \n",
    "    for species in columns:\n",
    "        \n",
    "        if xrange is not None:\n",
    "            plt.xlim(xrange[0], xrange[1])\n",
    "        if yrange is not None:\n",
    "            plt.ylim(yrange[0], yrange[1])\n",
    "        plt.plot(simulation['time'], simulation['['+species+']'], label=species_labels[label_index], linewidth=linewidth)\n",
    "        label_index += 1\n",
    "        \n",
    "    if legend:\n",
    "        plt.legend()\n",
    "    if autolegend:\n",
    "        plt.legend(loc='best')"
   ]
  },
  {
   "cell_type": "code",
   "execution_count": 197,
   "metadata": {
    "collapsed": false
   },
   "outputs": [],
   "source": [
    "species_list = ['M_h2o_c',\n",
    "            'M_oaa_c',\n",
    "            'M_cit_c',\n",
    "            'M_coa_c',\n",
    "            'M_h_c',\n",
    "            'M_accoa_c',\n",
    "            'M_icit_c',\n",
    "            'M_akg_c',\n",
    "            'M_co2_c',\n",
    "            'M_nadp_c',\n",
    "            'M_nadph_c',\n",
    "            'M_sdhlam_c',\n",
    "            'M_lpam_c',\n",
    "            'M_succoa_c',\n",
    "            'M_dhlam_c',\n",
    "            'M_atp_c',\n",
    "            'M_succ_c',\n",
    "            'M_adp_c',\n",
    "            'M_pi_c',\n",
    "            'M_fadh2_c',\n",
    "            'M_fum_c',\n",
    "            'M_fad_c',\n",
    "            'M_mal__L_c',\n",
    "            'M_nadh_c',\n",
    "            'M_nad_c',\n",
    "            'M_mqn8_c',\n",
    "            'M_mql8_c',\n",
    "            'M_pep_c',\n",
    "            'M_hco3_c',\n",
    "            'M_pyr_c',\n",
    "            'M_o2_c',\n",
    "            'M_h2o2_c',\n",
    "            'M_actp_c',\n",
    "            'M_ac_c',\n",
    "            'M_ppi_c',\n",
    "            'M_amp_c',\n",
    "            'M_for_c',\n",
    "            'M_acald_c',\n",
    "            'M_lac__D_c',\n",
    "            'M_glu__L_c',\n",
    "            'M_2kmb_c',\n",
    "            'M_met__L_c',\n",
    "            'M_acorn_c',\n",
    "            'M_acg5sa_c',\n",
    "            'M_hcys__L_c',\n",
    "            'M_amet_c',\n",
    "            'M_ahcys_c',\n",
    "            'M_8aonn_c',\n",
    "            'M_amob_c',\n",
    "            'M_dann_c',\n",
    "            'M_dscl_c',\n",
    "            'M_uppg3_c',\n",
    "            'M_asp__L_c',\n",
    "            'M_asn__L_c',\n",
    "            'M_gln__L_c',\n",
    "            'M_chor_c',\n",
    "            'M_4adcho_c',\n",
    "            'M_adcobdam_c',\n",
    "            'M_adcobhex_c',\n",
    "            'M_1pyr5c_c',\n",
    "            'M_cys__L_c',\n",
    "            'M_acser_c',\n",
    "            'M_h2s_c',\n",
    "            'M_cpppg3_c',\n",
    "            'M_hmbil_c',\n",
    "            'M_pro__L_c',\n",
    "            'M_1pyr5c_c',\n",
    "            #'M_pro__L_c',\n",
    "            'M_3mob_c',\n",
    "            'M_3c3hmp_c',\n",
    "            'M_malcoa_c']\n",
    "\n",
    "for species in species_list:\n",
    "    #print sbml_model[species]\n",
    "    sbml_model[species] = 10.0"
   ]
  },
  {
   "cell_type": "code",
   "execution_count": 198,
   "metadata": {
    "collapsed": false
   },
   "outputs": [],
   "source": [
    "sim = sbml_model.simulate(0, 100, 100000)"
   ]
  },
  {
   "cell_type": "code",
   "execution_count": 199,
   "metadata": {
    "collapsed": true
   },
   "outputs": [],
   "source": [
    "#print(sim)\n",
    "%matplotlib inline"
   ]
  },
  {
   "cell_type": "code",
   "execution_count": 200,
   "metadata": {
    "collapsed": true
   },
   "outputs": [],
   "source": [
    "citrate_labels = ['L-Malate',\n",
    "                 'Oxalacetate',\n",
    "                 'Citrate',\n",
    "                 'Isocitrate',\n",
    "                 '2-Oxoglutarate',\n",
    "                 'S Succinyldihydrolipoamide',\n",
    "                 'Succinyl-CoA',\n",
    "                 'Succinyl',\n",
    "                 'Fumarase']\n",
    "pyruvate_labels = ['Pyruvate',\n",
    "                  'Acetyl-CoA',\n",
    "                  'Acetate',\n",
    "                  'Acetyl phosphate']"
   ]
  },
  {
   "cell_type": "code",
   "execution_count": 201,
   "metadata": {
    "collapsed": false
   },
   "outputs": [
    {
     "data": {
      "image/png": "[encoded data removed]",
      "text/plain": [
       "<matplotlib.figure.Figure at 0x7fbdc1fe6750>"
      ]
     },
     "metadata": {},
     "output_type": "display_data"
    },
    {
     "data": {
      "image/png": "[encoded data removed]",
      "text/plain": [
       "<matplotlib.figure.Figure at 0x7fbdc1ed6850>"
      ]
     },
     "metadata": {},
     "output_type": "display_data"
    }
   ],
   "source": [
    "name_ext = '_kftest2.png'\n",
    "\n",
    "# plot\n",
    "#plot1 = sbml_model.plot(sim)\n",
    "columns_citrate = ['M_mal__L_c', 'M_oaa_c', 'M_cit_c', 'M_icit_c', 'M_akg_c', 'M_sdhlam_c', 'M_succoa_c', 'M_succ_c', 'M_fum_c']\n",
    "columns_pyruvat = ['M_pyr_c', 'M_accoa_c', 'M_ac_c', 'M_actp_c']\n",
    "\n",
    "columns_combined = columns_citrate + columns_pyruvat\n",
    "#print columns_pyruvat\n",
    "\n",
    "plot(sim, columns=columns_citrate, species_labels=citrate_labels, xscale='log')\n",
    "plt.savefig(\"citrate_plot_1\" + name_ext)\n",
    "plt.show()\n",
    "plot(sim, columns=columns_pyruvat, species_labels=pyruvate_labels, xscale='log')\n",
    "plt.savefig(\"pyruvate_plot_1\" + name_ext)\n",
    "plt.show()\n",
    "#plot(sim, xrange=[0.0001, 1], yrange=[0,60], species_labels=citrate_labels, columns=columns_citrate, xscale='log')\n",
    "#plt.savefig(\"citrate_plot_100\" + name_ext)\n",
    "#plt.show()\n",
    "\n",
    "#plot(sim, xrange=[0.000001, 1], species_labels=pyruvate_labels, columns=columns_pyruvat, xscale='log')\n",
    "#plt.savefig(\"pyruvate_plot_100.png\")\n",
    "\n",
    "\n",
    "\n"
   ]
  },
  {
   "cell_type": "code",
   "execution_count": null,
   "metadata": {
    "collapsed": true
   },
   "outputs": [],
   "source": []
  }
 ],
 "metadata": {
  "anaconda-cloud": {},
  "kernelspec": {
   "display_name": "Python [conda env:sysbio]",
   "language": "python",
   "name": "conda-env-sysbio-py"
  },
  "language_info": {
   "codemirror_mode": {
    "name": "ipython",
    "version": 2
   },
   "file_extension": ".py",
   "mimetype": "text/x-python",
   "name": "python",
   "nbconvert_exporter": "python",
   "pygments_lexer": "ipython2",
   "version": "2.7.13"
  }
 },
 "nbformat": 4,
 "nbformat_minor": 0
}
