{
 "cells": [
  {
   "cell_type": "code",
   "execution_count": 1,
   "metadata": {
    "collapsed": false
   },
   "outputs": [
    {
     "name": "stderr",
     "output_type": "stream",
     "text": [
      "/home/joachim/.conda/envs/sysbio/lib/python2.7/site-packages/tellurium/sedml/tesedml.py:103: UserWarning: Dependencies for SEDML code execution not fullfilled.\n",
      "  warnings.warn(\"Dependencies for SEDML code execution not fullfilled.\")\n",
      "/home/joachim/.conda/envs/sysbio/lib/python2.7/site-packages/tellurium/notebooks/__init__.py:16: UserWarning: Notebook tools are not imported, due to missing dependencies.\n",
      "  warnings.warn(\"Notebook tools are not imported, due to missing dependencies.\")\n"
     ]
    }
   ],
   "source": [
    "#Imports\n",
    "\n",
    "import sys\n",
    "import matplotlib.pyplot as plt\n",
    "from libsbml import *\n",
    "import tellurium as te"
   ]
  },
  {
   "cell_type": "code",
   "execution_count": 2,
   "metadata": {
    "collapsed": true
   },
   "outputs": [],
   "source": [
    "# Path of the SBML-File containing the groups g4, g6, g12 and g14\n",
    "\n",
    "sbml_path = \"all_groups_fluxes_squeezed.xml\""
   ]
  },
  {
   "cell_type": "code",
   "execution_count": 3,
   "metadata": {
    "collapsed": false
   },
   "outputs": [],
   "source": [
    "# read in SBML File\n",
    "\n",
    "reader = SBMLReader()\n",
    "document = reader.readSBMLFromFile(sbml_path)\n",
    "model = document.getModel()"
   ]
  },
  {
   "cell_type": "code",
   "execution_count": 4,
   "metadata": {
    "collapsed": false
   },
   "outputs": [],
   "source": [
    "# List of metabolites their boundary is set to True\n",
    "\n",
    "boundary_true = [#Currency Metabolites\n",
    "                'M_atp_c',\n",
    "                'M_adp_c',\n",
    "                'M_amp_c',\n",
    "                'M_nad_c',\n",
    "                'M_nadh_c',\n",
    "                'M_nadp_c',\n",
    "                'M_nadph_c',\n",
    "                'M_co2_c',\n",
    "                'M_h_c',\n",
    "                'M_coa_c',\n",
    "                'M_fad_c',\n",
    "                'M_fadh2_c',\n",
    "                'M_pi_c',\n",
    "                'M_ppi_c',\n",
    "                'M_for_c',\n",
    "                'M_o2_c',\n",
    "                'M_lpam_c',\n",
    "                'M_dhlam_c',\n",
    "                'M_hco3_c',\n",
    "                'M_mql8_c',\n",
    "                'M_mqn8_c',\n",
    "                'M_3mob_c',\n",
    "                'M_8aonn_c',\n",
    "                'M_dann_c',\n",
    "                'M_met__L_c',\n",
    "                #Main metabolites\n",
    "                'M_acser_c',\n",
    "                'M_acald_c',\n",
    "                'M_3c3hmp_c',\n",
    "                'M_malcoa_c',\n",
    "                'M_lac__D_c',\n",
    "                'M_pep_c',\n",
    "                'M_glu__L_c',\n",
    "                'M_1pyr5c_c',\n",
    "                'M_gln__L_c',\n",
    "                'M_chor_c',\n",
    "                'M_hmbil_c',\n",
    "                'M_cpppg3_c',\n",
    "                'M_dscl_c',\n",
    "                'M_amob_c',\n",
    "                'M_met__L_c',\n",
    "                'M_hcys__L_c',\n",
    "                'M_cys__L_c',\n",
    "                'M_ahcys_c',\n",
    "                'M_adcobdam_c',\n",
    "                'M_adcobhex_c',\n",
    "                'M_hco3_c',\n",
    "                'M_2kmb_c']"
   ]
  },
  {
   "cell_type": "code",
   "execution_count": 5,
   "metadata": {
    "collapsed": false
   },
   "outputs": [],
   "source": [
    "# Iterate over all metabolites in boundary_true and set the boundary condition to true\n",
    "for species in boundary_true:\n",
    "    s = model.getSpecies(species)\n",
    "    #print(species + \" : \" + str(s == None))\n",
    "    s.setBoundaryCondition(True)"
   ]
  },
  {
   "cell_type": "code",
   "execution_count": 26,
   "metadata": {
    "collapsed": true
   },
   "outputs": [],
   "source": [
    "# Alter the forward rate of a given reaction to the value kf\n",
    "# assuming mass action kinetics\n",
    "def set_kf(reaction, kf):\n",
    "    kfs = 'kf_'\n",
    "    kin = reaction.getKineticLaw()\n",
    "    param = kin.getLocalParameter(kfs + reaction.getId())\n",
    "    param.setValue(kf)\n",
    "    \n",
    "# Alter the reverse rate of a given reaction to the value kr\n",
    "# assuming mass action kinetics\n",
    "def set_kr(reaction, kr):\n",
    "    krs = 'kr_'\n",
    "    kin = reaction.getKineticLaw()\n",
    "    param = kin.getLocalParameter(krs + reaction.getId())\n",
    "    param.setValue(kr)\n",
    "    \n",
    "# Alter the forward and reverse rate of a given bidirectional (reversible) reaction to the value k\n",
    "# assuming mass action kinetics\n",
    "def set_kbd(reaction, k):\n",
    "    kfs = 'kf_'\n",
    "    krs = 'kr_'\n",
    "    kin = reaction.getKineticLaw()\n",
    "    param_f = kin.getLocalParameter(kfs + reaction.getId())\n",
    "    param_f.setValue(k)\n",
    "    param_r = kin.getLocalParameter(krs + reaction.getId())\n",
    "    param_r.setValue(k)\n",
    "    "
   ]
  },
  {
   "cell_type": "code",
   "execution_count": 27,
   "metadata": {
    "collapsed": false
   },
   "outputs": [],
   "source": [
    "# Testing of several different reaction rates\n",
    "\n",
    "#set_kf(model.getReaction('R_ME1'), 1000)   \n",
    "#set_kf(model.getReaction('R_PC'), 0.001)   \n",
    "#set_kf(model.getReaction('R_POX2'), 0.001)\n",
    "#set_kf(model.getReaction('R_MDH3'), 0.001) \n",
    "#set_kf(model.getReaction('R_ACS'), 0.001) \n",
    "#set_kf(model.getReaction('R_AKGDb'), 1) \n",
    "\n",
    "\n",
    "#set_kf(model.getReaction('R_MDH3'), 0)\n",
    "#set_kbd(model.getReaction('R_MDH'), 0)\n",
    "set_kbd(model.getReaction('R_FUM'), 0)\n",
    "#set_kf(model.getReaction('R_PPCK'), 0)\n",
    "#set_kf(model.getReaction('R_PC'), 0)\n",
    "#set_kr(model.getReaction('R_ICDHyr'), 0)\n",
    "#set_kf(model.getReaction('R_PPCK'), 0)\n"
   ]
  },
  {
   "cell_type": "code",
   "execution_count": 28,
   "metadata": {
    "collapsed": false
   },
   "outputs": [
    {
     "data": {
      "text/plain": [
       "True"
      ]
     },
     "execution_count": 28,
     "metadata": {},
     "output_type": "execute_result"
    }
   ],
   "source": [
    "# write the file to a new SBML-File\n",
    "\n",
    "outfile = 'all_groups_with_fluxes_and_boundaries.xml'\n",
    "writer = SBMLWriter()\n",
    "writer.writeSBMLToFile(model.getSBMLDocument(), outfile)"
   ]
  },
  {
   "cell_type": "code",
   "execution_count": 29,
   "metadata": {
    "collapsed": false
   },
   "outputs": [],
   "source": [
    "# Load the SBML Model from the just created file\n",
    "sbml_model = te.loadSBMLModel(outfile)"
   ]
  },
  {
   "cell_type": "code",
   "execution_count": 30,
   "metadata": {
    "collapsed": false
   },
   "outputs": [],
   "source": [
    "# Plot function that was part of an assignment sheet\n",
    "\n",
    "def plot(simulation, xrange=None, yrange=None, columns=None, species_labels=None, xscale='linear', yscale='linear', autolegend=True, legend=True, linewidth=2.0):\n",
    "    plt.xscale(xscale)\n",
    "    plt.yscale(yscale)\n",
    "    \n",
    "    if columns is None:\n",
    "        columns = simulation.colnames[1:]\n",
    "    \n",
    "    if species_labels != None and len(columns)!=len(species_labels):\n",
    "        return\n",
    "    \n",
    "    label_index = 0\n",
    "    \n",
    "    for species in columns:\n",
    "        \n",
    "        if xrange is not None:\n",
    "            plt.xlim(xrange[0], xrange[1])\n",
    "        if yrange is not None:\n",
    "            plt.ylim(yrange[0], yrange[1])\n",
    "        plt.plot(simulation['time'], simulation['['+species+']'], label=species_labels[label_index], linewidth=linewidth)\n",
    "        label_index += 1\n",
    "        \n",
    "    if legend:\n",
    "        plt.legend()\n",
    "    if autolegend:\n",
    "        plt.legend(loc='best')"
   ]
  },
  {
   "cell_type": "code",
   "execution_count": 31,
   "metadata": {
    "collapsed": false
   },
   "outputs": [],
   "source": [
    "# List of all species relevant for the reactions in focus\n",
    "# Mainly the pyruvate metabolism and the citric acid cycle\n",
    "\n",
    "species_list = ['M_h2o_c',\n",
    "            'M_oaa_c',\n",
    "            'M_cit_c',\n",
    "            'M_coa_c',\n",
    "            'M_h_c',\n",
    "            'M_accoa_c',\n",
    "            'M_icit_c',\n",
    "            'M_akg_c',\n",
    "            'M_co2_c',\n",
    "            'M_nadp_c',\n",
    "            'M_nadph_c',\n",
    "            'M_sdhlam_c',\n",
    "            'M_lpam_c',\n",
    "            'M_succoa_c',\n",
    "            'M_dhlam_c',\n",
    "            'M_atp_c',\n",
    "            'M_succ_c',\n",
    "            'M_adp_c',\n",
    "            'M_pi_c',\n",
    "            'M_fadh2_c',\n",
    "            'M_fum_c',\n",
    "            'M_fad_c',\n",
    "            'M_mal__L_c',\n",
    "            'M_nadh_c',\n",
    "            'M_nad_c',\n",
    "            'M_mqn8_c',\n",
    "            'M_mql8_c',\n",
    "            'M_pep_c',\n",
    "            'M_hco3_c',\n",
    "            'M_pyr_c',\n",
    "            'M_o2_c',\n",
    "            'M_h2o2_c',\n",
    "            'M_actp_c',\n",
    "            'M_ac_c',\n",
    "            'M_ppi_c',\n",
    "            'M_amp_c',\n",
    "            'M_for_c',\n",
    "            'M_acald_c',\n",
    "            'M_lac__D_c',\n",
    "            'M_glu__L_c',\n",
    "            'M_2kmb_c',\n",
    "            'M_met__L_c',\n",
    "            'M_acorn_c',\n",
    "            'M_acg5sa_c',\n",
    "            'M_hcys__L_c',\n",
    "            'M_amet_c',\n",
    "            'M_ahcys_c',\n",
    "            'M_8aonn_c',\n",
    "            'M_amob_c',\n",
    "            'M_dann_c',\n",
    "            'M_dscl_c',\n",
    "            'M_uppg3_c',\n",
    "            'M_asp__L_c',\n",
    "            'M_asn__L_c',\n",
    "            'M_gln__L_c',\n",
    "            'M_chor_c',\n",
    "            'M_4adcho_c',\n",
    "            'M_adcobdam_c',\n",
    "            'M_adcobhex_c',\n",
    "            'M_1pyr5c_c',\n",
    "            'M_cys__L_c',\n",
    "            'M_acser_c',\n",
    "            'M_h2s_c',\n",
    "            'M_cpppg3_c',\n",
    "            'M_hmbil_c',\n",
    "            'M_pro__L_c',\n",
    "            'M_1pyr5c_c',\n",
    "            #'M_pro__L_c',\n",
    "            'M_3mob_c',\n",
    "            'M_3c3hmp_c',\n",
    "            'M_malcoa_c']\n",
    "\n",
    "# iterate over all species and set their initial concentration to 10.0\n",
    "for species in species_list:\n",
    "    #print sbml_model[species]\n",
    "    sbml_model[species] = 10.0"
   ]
  },
  {
   "cell_type": "code",
   "execution_count": 32,
   "metadata": {
    "collapsed": false
   },
   "outputs": [],
   "source": [
    "# Simulate the model from step 0 to step 100\n",
    "# step size is 100000\n",
    "sim = sbml_model.simulate(0, 100, 100000)"
   ]
  },
  {
   "cell_type": "code",
   "execution_count": 33,
   "metadata": {
    "collapsed": true
   },
   "outputs": [],
   "source": [
    "#print(sim)\n",
    "%matplotlib inline"
   ]
  },
  {
   "cell_type": "code",
   "execution_count": 34,
   "metadata": {
    "collapsed": true
   },
   "outputs": [],
   "source": [
    "# Labels of the citric acid cycle their concentrations should be plotted\n",
    "citrate_labels = ['L-Malate',\n",
    "                 'Oxalacetate',\n",
    "                 'Citrate',\n",
    "                 'Isocitrate',\n",
    "                 '2-Oxoglutarate',\n",
    "                 'S Succinyldihydrolipoamide',\n",
    "                 'Succinyl-CoA',\n",
    "                 'Succinyl',\n",
    "                 'Fumarase']\n",
    "\n",
    "\n",
    "# Labels of the pyruvate metabolism their concentrations should be plotted\n",
    "pyruvate_labels = ['Pyruvate',\n",
    "                  'Acetyl-CoA',\n",
    "                  'Acetate',\n",
    "                  'Acetyl phosphate']"
   ]
  },
  {
   "cell_type": "code",
   "execution_count": 35,
   "metadata": {
    "collapsed": false
   },
   "outputs": [
    {
     "data": {
      "image/png": "[encoded data removed]",
      "text/plain": [
       "<matplotlib.figure.Figure at 0x7f9ef6bb8090>"
      ]
     },
     "metadata": {},
     "output_type": "display_data"
    },
    {
     "data": {
      "image/png": "[encoded data removed]",
      "text/plain": [
       "<matplotlib.figure.Figure at 0x7f9ef6caf050>"
      ]
     },
     "metadata": {},
     "output_type": "display_data"
    },
    {
     "data": {
      "image/png": "[encoded data removed]",
      "text/plain": [
       "<matplotlib.figure.Figure at 0x7f9ef6e1ddd0>"
      ]
     },
     "metadata": {},
     "output_type": "display_data"
    }
   ],
   "source": [
    "# the name extension for the saved png-plots\n",
    "\n",
    "name_ext = '_blockfum.png'\n",
    "\n",
    "\n",
    "# Metabolite names of the citric acid cycle their concentrations should be plotted\n",
    "columns_citrate = ['M_mal__L_c', 'M_oaa_c', 'M_cit_c', 'M_icit_c', 'M_akg_c', 'M_sdhlam_c', 'M_succoa_c', 'M_succ_c', 'M_fum_c']\n",
    "\n",
    "# Metabolite names of the pyruvate metabolism their concentrations should be plotted\n",
    "columns_pyruvat = ['M_pyr_c', 'M_accoa_c', 'M_ac_c', 'M_actp_c']\n",
    "\n",
    "\n",
    "# Plot simulation of the citric acid metabolites\n",
    "plot(sim, columns=columns_citrate, species_labels=citrate_labels, xscale='log')\n",
    "plt.savefig(\"citrate_plot_1\" + name_ext)\n",
    "plt.show()\n",
    "\n",
    "# Plot simulation of the pyruvate metabolism metabolites\n",
    "plot(sim, columns=columns_pyruvat, species_labels=pyruvate_labels, xscale='log')\n",
    "plt.savefig(\"pyruvate_plot_1\" + name_ext)\n",
    "plt.show()\n",
    "\n",
    "# Labels of the citric acid cycle their concentrations are plotted in the\n",
    "# limited range from 0.0001 to 1\n",
    "plot(sim, xrange=[0.0001, 1], yrange=[0,60], species_labels=citrate_labels, columns=columns_citrate, xscale='log')\n",
    "plt.savefig(\"citrate_plot_100\" + name_ext)\n",
    "plt.show()\n",
    "\n",
    "\n"
   ]
  },
  {
   "cell_type": "code",
   "execution_count": null,
   "metadata": {
    "collapsed": true
   },
   "outputs": [],
   "source": []
  }
 ],
 "metadata": {
  "anaconda-cloud": {},
  "kernelspec": {
   "display_name": "Python [conda root]",
   "language": "python",
   "name": "conda-root-py"
  },
  "language_info": {
   "codemirror_mode": {
    "name": "ipython",
    "version": 2
   },
   "file_extension": ".py",
   "mimetype": "text/x-python",
   "name": "python",
   "nbconvert_exporter": "python",
   "pygments_lexer": "ipython2",
   "version": "2.7.12"
  }
 },
 "nbformat": 4,
 "nbformat_minor": 0
}
