{
 "cells": [
  {
   "cell_type": "code",
   "execution_count": 4,
   "metadata": {
    "collapsed": false
   },
   "outputs": [
    {
     "ename": "ImportError",
     "evalue": "No module named cobra",
     "output_type": "error",
     "traceback": [
      "\u001b[0;31m---------------------------------------------------------------------------\u001b[0m",
      "\u001b[0;31mImportError\u001b[0m                               Traceback (most recent call last)",
      "\u001b[0;32m<ipython-input-4-06adcc82b7a0>\u001b[0m in \u001b[0;36m<module>\u001b[0;34m()\u001b[0m\n\u001b[1;32m      2\u001b[0m \u001b[0;32mfrom\u001b[0m \u001b[0mlibsbml\u001b[0m \u001b[0;32mimport\u001b[0m \u001b[0;34m*\u001b[0m\u001b[0;34m\u001b[0m\u001b[0m\n\u001b[1;32m      3\u001b[0m \u001b[0;32mimport\u001b[0m \u001b[0mast\u001b[0m\u001b[0;34m\u001b[0m\u001b[0m\n\u001b[0;32m----> 4\u001b[0;31m \u001b[0;32mimport\u001b[0m \u001b[0mcobra\u001b[0m\u001b[0;34m\u001b[0m\u001b[0m\n\u001b[0m",
      "\u001b[0;31mImportError\u001b[0m: No module named cobra"
     ]
    }
   ],
   "source": [
    "import tellurium as te\n",
    "from libsbml import *\n",
    "import ast\n",
    "import cobra"
   ]
  },
  {
   "cell_type": "code",
   "execution_count": 17,
   "metadata": {
    "collapsed": false
   },
   "outputs": [],
   "source": [
    "model_path = 'all_groups.xml'\n",
    "\n",
    "reader = SBMLReader()\n",
    "document = reader.readSBMLFromFile(model_path)\n",
    "\n",
    "model = document.getModel()\n"
   ]
  },
  {
   "cell_type": "code",
   "execution_count": 18,
   "metadata": {
    "collapsed": true
   },
   "outputs": [],
   "source": [
    "def add_flux(model, species_name, outflux):\n",
    "    reaction = Reaction(3, 1)\n",
    "    species = model.getSpecies(species_name)\n",
    "    if species != None:\n",
    "        print \"Species \" + species_name + \" is there.\"\n",
    "    else:\n",
    "        print \"Species \" + species_name + \" is not there.\" \n",
    "    reaction.setId(\"R_EX_\" + species_name)\n",
    "    reaction.setReversible(False)\n",
    "    reaction.setFast(False)\n",
    "    \n",
    "    if outflux:\n",
    "        reaction.addReactant(species, 1)\n",
    "    else:\n",
    "        reaction.addProduct(species, 1)\n",
    "    model.addReaction(reaction)\n",
    "    return reaction.getId()"
   ]
  },
  {
   "cell_type": "code",
   "execution_count": 19,
   "metadata": {
    "collapsed": true
   },
   "outputs": [],
   "source": [
    "def check_for_reaction(model, reaction_name):\n",
    "    newreaction = model.getReaction(reaction_name)\n",
    "    if newreaction is None:\n",
    "        print reaction_name + \" is not there\"\n",
    "    else:\n",
    "        print reaction_name + \" is there\""
   ]
  },
  {
   "cell_type": "code",
   "execution_count": 20,
   "metadata": {
    "collapsed": true
   },
   "outputs": [],
   "source": [
    "def sbml_to_json(sbml_document_name, destination):\n",
    "    cobra_model_part = cobra.io.read_sbml_model(sbml_document_name)\n",
    "    cobra.io.save_json_model(cobra_model_part, destination)"
   ]
  },
  {
   "cell_type": "code",
   "execution_count": 21,
   "metadata": {
    "collapsed": false
   },
   "outputs": [
    {
     "name": "stdout",
     "output_type": "stream",
     "text": [
      "Species M_cys__L_c is there.\n",
      "R_EX_M_cys__L_c is there\n",
      "Species M_acald_c is there.\n",
      "R_EX_M_acald_c is there\n",
      "Species M_3c3hmp_c is there.\n",
      "R_EX_M_3c3hmp_c is there\n",
      "Species M_malcoa_c is there.\n",
      "R_EX_M_malcoa_c is there\n",
      "Species M_lac__D_c is there.\n",
      "R_EX_M_lac__D_c is there\n",
      "Species M_pep_c is there.\n",
      "R_EX_M_pep_c is there\n",
      "Species M_pro__L_c is there.\n",
      "R_EX_M_pro__L_c is there\n",
      "Species M_gln__L_c is there.\n",
      "R_EX_M_gln__L_c is there\n",
      "Species M_chor_c is there.\n",
      "R_EX_M_chor_c is there\n",
      "Species M_hmbil_c is there.\n",
      "R_EX_M_hmbil_c is there\n",
      "Species M_cpppg3_c is there.\n",
      "R_EX_M_cpppg3_c is there\n",
      "Species M_dscl_c is there.\n",
      "R_EX_M_dscl_c is there\n",
      "Species M_amob_c is there.\n",
      "R_EX_M_amob_c is there\n",
      "Species M_met__L_c is there.\n",
      "R_EX_M_met__L_c is there\n",
      "Species M_hcys__L_c is there.\n",
      "R_EX_M_hcys__L_c is there\n",
      "Species M_cys__L_c is there.\n",
      "R_EX_M_cys__L_c is there\n",
      "Species M_ahcys_c is there.\n",
      "R_EX_M_ahcys_c is there\n"
     ]
    }
   ],
   "source": [
    "check_for_reaction(model, add_flux(model, \"M_cys__L_c\", False))\n",
    "check_for_reaction(model, add_flux(model, \"M_acald_c\", False))\n",
    "check_for_reaction(model, add_flux(model, \"M_3c3hmp_c\", True))\n",
    "check_for_reaction(model, add_flux(model, \"M_malcoa_c\", True))\n",
    "check_for_reaction(model, add_flux(model, \"M_lac__D_c\", True))\n",
    "check_for_reaction(model, add_flux(model, \"M_pep_c\", True))\n",
    "check_for_reaction(model, add_flux(model, \"M_pro__L_c\", False))\n",
    "check_for_reaction(model, add_flux(model, \"M_gln__L_c\", False))\n",
    "check_for_reaction(model, add_flux(model, \"M_chor_c\", False))\n",
    "check_for_reaction(model, add_flux(model, \"M_hmbil_c\", False))\n",
    "check_for_reaction(model, add_flux(model, \"M_cpppg3_c\", True))\n",
    "check_for_reaction(model, add_flux(model, \"M_dscl_c\", True))\n",
    "check_for_reaction(model, add_flux(model, \"M_amob_c\", False))\n",
    "check_for_reaction(model, add_flux(model, \"M_met__L_c\", True))\n",
    "check_for_reaction(model, add_flux(model, \"M_hcys__L_c\", False))\n",
    "check_for_reaction(model, add_flux(model, \"M_cys__L_c\", True))\n",
    "check_for_reaction(model, add_flux(model, \"M_ahcys_c\", True))"
   ]
  },
  {
   "cell_type": "code",
   "execution_count": 23,
   "metadata": {
    "collapsed": false
   },
   "outputs": [],
   "source": [
    "outfile = 'all_groups_with_fluxes.xml'\n",
    "json = 'all_groups_with_fluxes.json'"
   ]
  },
  {
   "cell_type": "code",
   "execution_count": 24,
   "metadata": {
    "collapsed": false
   },
   "outputs": [
    {
     "data": {
      "text/plain": [
       "True"
      ]
     },
     "execution_count": 24,
     "metadata": {},
     "output_type": "execute_result"
    }
   ],
   "source": [
    "writer = SBMLWriter()\n",
    "writer.writeSBMLToFile(model.getSBMLDocument(), outfile)"
   ]
  },
  {
   "cell_type": "code",
   "execution_count": 39,
   "metadata": {
    "collapsed": true
   },
   "outputs": [],
   "source": [
    "sbml_to_json(outfile, json)"
   ]
  },
  {
   "cell_type": "code",
   "execution_count": null,
   "metadata": {
    "collapsed": true
   },
   "outputs": [],
   "source": []
  }
 ],
 "metadata": {
  "kernelspec": {
   "display_name": "Python [conda env:sysbio]",
   "language": "python",
   "name": "conda-env-sysbio-py"
  },
  "language_info": {
   "codemirror_mode": {
    "name": "ipython",
    "version": 2
   },
   "file_extension": ".py",
   "mimetype": "text/x-python",
   "name": "python",
   "nbconvert_exporter": "python",
   "pygments_lexer": "ipython2",
   "version": "2.7.13"
  }
 },
 "nbformat": 4,
 "nbformat_minor": 0
}
