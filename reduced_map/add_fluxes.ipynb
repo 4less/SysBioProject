{
 "cells": [
  {
   "cell_type": "code",
   "execution_count": 48,
   "metadata": {
    "collapsed": false
   },
   "outputs": [],
   "source": [
    "import tellurium as te;\n",
    "from libsbml import *;\n",
    "import ast\n",
    "import cobra;\n",
    "\n",
    "reader = SBMLReader()\n",
    "document = reader.readSBMLFromFile('reduced_model.xml')\n",
    "\n",
    "model = document.getModel()\n"
   ]
  },
  {
   "cell_type": "code",
   "execution_count": 44,
   "metadata": {
    "collapsed": true
   },
   "outputs": [],
   "source": [
    "def add_flux(model, species_name, outflux):\n",
    "    reaction = Reaction(3, 1)\n",
    "    species = model.getSpecies(species_name)\n",
    "    if species != None:\n",
    "        print \"Species \" + species_name + \" is there.\"\n",
    "    else:\n",
    "        print \"Species \" + species_name + \" is not there.\" \n",
    "    reaction.setId(\"R_EX_\" + species_name)\n",
    "    reaction.setReversible(False)\n",
    "    reaction.setFast(False)\n",
    "    if outflux:\n",
    "        reaction.addReactant(species, 1)\n",
    "    else:\n",
    "        reaction.addProduct(species, 1)\n",
    "    model.addReaction(reaction)\n",
    "    return reaction.getId()"
   ]
  },
  {
   "cell_type": "code",
   "execution_count": 45,
   "metadata": {
    "collapsed": true
   },
   "outputs": [],
   "source": [
    "def check_for_reaction(model, reaction_name):\n",
    "    newreaction = model.getReaction(reaction_name)\n",
    "    if newreaction is None:\n",
    "        print reaction_name + \" is not there\"\n",
    "    else:\n",
    "        print reaction_name + \" is there\""
   ]
  },
  {
   "cell_type": "code",
   "execution_count": 46,
   "metadata": {
    "collapsed": true
   },
   "outputs": [],
   "source": [
    "def sbml_to_json(sbml_document_name, destination):\n",
    "    cobra_model_part = cobra.io.read_sbml_model(sbml_document_name)\n",
    "    cobra.io.save_json_model(cobra_model_part, destination)"
   ]
  },
  {
   "cell_type": "code",
   "execution_count": 49,
   "metadata": {
    "collapsed": false
   },
   "outputs": [
    {
     "name": "stdout",
     "output_type": "stream",
     "text": [
      "Species cys__L_c is there.\n",
      "R_EX_cys__L_c is there\n",
      "Species acald_c is there.\n",
      "R_EX_acald_c is there\n",
      "Species _3c3hmp_c is there.\n",
      "R_EX__3c3hmp_c is there\n",
      "Species malcoa_c is there.\n",
      "R_EX_malcoa_c is there\n",
      "Species lac__D_c is there.\n",
      "R_EX_lac__D_c is there\n",
      "Species pep_c is there.\n",
      "R_EX_pep_c is there\n",
      "Species pro__L_c is there.\n",
      "R_EX_pro__L_c is there\n",
      "Species gln__L_c is there.\n",
      "R_EX_gln__L_c is there\n",
      "Species chor_c is there.\n",
      "R_EX_chor_c is there\n",
      "Species hmbil_c is there.\n",
      "R_EX_hmbil_c is there\n",
      "Species cpppg3_c is there.\n",
      "R_EX_cpppg3_c is there\n",
      "Species dscl_c is there.\n",
      "R_EX_dscl_c is there\n",
      "Species amob_c is there.\n",
      "R_EX_amob_c is there\n",
      "Species met__L_c is there.\n",
      "R_EX_met__L_c is there\n",
      "Species hcys__L_c is there.\n",
      "R_EX_hcys__L_c is there\n"
     ]
    }
   ],
   "source": [
    "check_for_reaction(model, add_flux(model, \"cys__L_c\", False))\n",
    "check_for_reaction(model, add_flux(model, \"acald_c\", False))\n",
    "check_for_reaction(model, add_flux(model, \"_3c3hmp_c\", True))\n",
    "check_for_reaction(model, add_flux(model, \"malcoa_c\", True))\n",
    "check_for_reaction(model, add_flux(model, \"lac__D_c\", True))\n",
    "check_for_reaction(model, add_flux(model, \"pep_c\", True))\n",
    "check_for_reaction(model, add_flux(model, \"pro__L_c\", False))\n",
    "check_for_reaction(model, add_flux(model, \"gln__L_c\", False))\n",
    "check_for_reaction(model, add_flux(model, \"chor_c\", False))\n",
    "check_for_reaction(model, add_flux(model, \"hmbil_c\", False))\n",
    "check_for_reaction(model, add_flux(model, \"cpppg3_c\", True))\n",
    "check_for_reaction(model, add_flux(model, \"dscl_c\", True))\n",
    "check_for_reaction(model, add_flux(model, \"amob_c\", False))\n",
    "check_for_reaction(model, add_flux(model, \"met__L_c\", True))\n",
    "check_for_reaction(model, add_flux(model, \"hcys__L_c\", False))\n",
    "check_for_reaction(model, add_flux(model, \"cys__L_c\", True))\n",
    "check_for_reaction(model, add_flux(model, \"ahcys_c\", True))\n",
    "\n",
    "    \n",
    "\n",
    "\n",
    "\n",
    "\n",
    "\n"
   ]
  },
  {
   "cell_type": "code",
   "execution_count": 50,
   "metadata": {
    "collapsed": false
   },
   "outputs": [
    {
     "data": {
      "text/plain": [
       "True"
      ]
     },
     "execution_count": 50,
     "metadata": {},
     "output_type": "execute_result"
    }
   ],
   "source": [
    "outfile = 'reduced_model_with_fluxes.xml'\n",
    "json = 'reduced_model_with_fluxes.json'\n",
    "\n",
    "writer = SBMLWriter()\n",
    "writer.writeSBMLToFile(model.getSBMLDocument(), outfile)\n"
   ]
  },
  {
   "cell_type": "code",
   "execution_count": 39,
   "metadata": {
    "collapsed": true
   },
   "outputs": [],
   "source": [
    "sbml_to_json(outfile, json)"
   ]
  },
  {
   "cell_type": "code",
   "execution_count": null,
   "metadata": {
    "collapsed": true
   },
   "outputs": [],
   "source": []
  }
 ],
 "metadata": {
  "kernelspec": {
   "display_name": "Python [Root]",
   "language": "python",
   "name": "Python [Root]"
  },
  "language_info": {
   "codemirror_mode": {
    "name": "ipython",
    "version": 2
   },
   "file_extension": ".py",
   "mimetype": "text/x-python",
   "name": "python",
   "nbconvert_exporter": "python",
   "pygments_lexer": "ipython2",
   "version": "2.7.11"
  }
 },
 "nbformat": 4,
 "nbformat_minor": 0
}
