{
 "cells": [
  {
   "cell_type": "code",
   "execution_count": 633,
   "metadata": {
    "collapsed": false
   },
   "outputs": [],
   "source": [
    "import sys\n",
    "import matplotlib.pyplot as plt\n",
    "from libsbml import *\n",
    "import tellurium as te"
   ]
  },
  {
   "cell_type": "code",
   "execution_count": 634,
   "metadata": {
    "collapsed": true
   },
   "outputs": [],
   "source": [
    "sbml_path = \"all_groups_fluxes_squeezed.xml\""
   ]
  },
  {
   "cell_type": "code",
   "execution_count": 635,
   "metadata": {
    "collapsed": false
   },
   "outputs": [],
   "source": [
    "reader = SBMLReader()\n",
    "document = reader.readSBMLFromFile(sbml_path)\n",
    "model = document.getModel()"
   ]
  },
  {
   "cell_type": "code",
   "execution_count": 636,
   "metadata": {
    "collapsed": false
   },
   "outputs": [],
   "source": [
    "boundary_true = ['M_atp_c',\n",
    "                'M_adp_c',\n",
    "                'M_amp_c',\n",
    "                'M_nad_c',\n",
    "                'M_nadh_c',\n",
    "                'M_nadp_c',\n",
    "                'M_nadph_c',\n",
    "                'M_co2_c',\n",
    "                'M_h_c',\n",
    "                'M_coa_c',\n",
    "                'M_fad_c',\n",
    "                'M_fadh2_c',\n",
    "                'M_pi_c',\n",
    "                'M_ppi_c',\n",
    "                'M_for_c',\n",
    "                'M_o2_c',\n",
    "                'M_lpam_c',\n",
    "                'M_dhlam_c',\n",
    "                'M_hco3_c',\n",
    "                'M_mql8_c',\n",
    "                'M_mqn8_c',\n",
    "                'M_3mob_c',\n",
    "                'M_8aonn_c',\n",
    "                'M_dann_c',\n",
    "                'M_met__L_c',\n",
    "                #lololo,\n",
    "                'M_acser_c',\n",
    "                'M_acald_c',\n",
    "                'M_3c3hmp_c',\n",
    "                'M_malcoa_c',\n",
    "                'M_lac__D_c',\n",
    "                'M_pep_c',\n",
    "                #'M_pro__L_c',\n",
    "                'M_1pyr5c_c',\n",
    "                'M_gln__L_c',\n",
    "                'M_chor_c',\n",
    "                'M_hmbil_c',\n",
    "                'M_cpppg3_c',\n",
    "                'M_dscl_c',\n",
    "                'M_amob_c',\n",
    "                'M_met__L_c',\n",
    "                'M_hcys__L_c',\n",
    "                'M_cys__L_c',\n",
    "                'M_ahcys_c',\n",
    "                'M_adcobdam_c',\n",
    "                'M_adcobhex_c',\n",
    "                'M_hco3_c',\n",
    "                'M_2kmbc_c']"
   ]
  },
  {
   "cell_type": "code",
   "execution_count": 637,
   "metadata": {
    "collapsed": false
   },
   "outputs": [
    {
     "name": "stdout",
     "output_type": "stream",
     "text": [
      "False\n"
     ]
    }
   ],
   "source": [
    "s = model.getSpecies('M_h2o_c')\n",
    "print s == None"
   ]
  },
  {
   "cell_type": "code",
   "execution_count": 638,
   "metadata": {
    "collapsed": false
   },
   "outputs": [],
   "source": [
    "for species in boundary_true:\n",
    "    s = model.getSpecies(species)\n",
    "    s.setBoundaryCondition(True)\n",
    "#layout_plug = model.getPlugin('layout')\n",
    "#layout_plug.removeLayout(0)"
   ]
  },
  {
   "cell_type": "code",
   "execution_count": 639,
   "metadata": {
    "collapsed": false
   },
   "outputs": [
    {
     "data": {
      "text/plain": [
       "True"
      ]
     },
     "execution_count": 639,
     "metadata": {},
     "output_type": "execute_result"
    }
   ],
   "source": [
    "outfile = 'all_groups_with_fluxes_and_boundaries.xml'\n",
    "writer = SBMLWriter()\n",
    "writer.writeSBMLToFile(model.getSBMLDocument(), outfile)"
   ]
  },
  {
   "cell_type": "code",
   "execution_count": 640,
   "metadata": {
    "collapsed": true
   },
   "outputs": [],
   "source": [
    "#sbml_model = te.loadSBMLModel('te_load_test.xml')"
   ]
  },
  {
   "cell_type": "code",
   "execution_count": 641,
   "metadata": {
    "collapsed": false
   },
   "outputs": [],
   "source": [
    "sbml_model = te.loadSBMLModel(outfile)"
   ]
  },
  {
   "cell_type": "code",
   "execution_count": 642,
   "metadata": {
    "collapsed": false
   },
   "outputs": [],
   "source": [
    "#antimony = te.sbmlToAntimony(sbml_path)\n",
    "\n",
    " \n",
    "\n",
    "def plot(simulation, xrange=None, yrange=None, columns=None, xscale='linear', yscale='linear', autolegend=True, legend=True, linewidth=2.0):\n",
    "    plt.xscale(xscale)\n",
    "    plt.yscale(yscale)\n",
    "    \n",
    "    if columns is None:\n",
    "        columns = simulation.colnames[1:]\n",
    "    \n",
    "    for species in columns:\n",
    "        if xrange is not None:\n",
    "            plt.xlim(xrange[0], xrange[1])\n",
    "        if yrange is not None:\n",
    "            plt.ylim(yrange[0], yrange[1])\n",
    "        plt.plot(simulation['time'], simulation['['+species+']'], label=species, linewidth=linewidth)\n",
    "        \n",
    "    if legend:\n",
    "        plt.legend()\n",
    "    if autolegend:\n",
    "        plt.legend(loc='best')"
   ]
  },
  {
   "cell_type": "code",
   "execution_count": 643,
   "metadata": {
    "collapsed": false
   },
   "outputs": [],
   "source": [
    "species_list = ['M_h2o_c',\n",
    "            'M_oaa_c',\n",
    "            'M_cit_c',\n",
    "            'M_coa_c',\n",
    "            'M_h_c',\n",
    "            'M_accoa_c',\n",
    "            'M_icit_c',\n",
    "            'M_akg_c',\n",
    "            'M_co2_c',\n",
    "            'M_nadp_c',\n",
    "            'M_nadph_c',\n",
    "            'M_sdhlam_c',\n",
    "            'M_lpam_c',\n",
    "            'M_succoa_c',\n",
    "            'M_dhlam_c',\n",
    "            'M_atp_c',\n",
    "            'M_succ_c',\n",
    "            'M_adp_c',\n",
    "            'M_pi_c',\n",
    "            'M_fadh2_c',\n",
    "            'M_fum_c',\n",
    "            'M_fad_c',\n",
    "            'M_mal__L_c',\n",
    "            'M_nadh_c',\n",
    "            'M_nad_c',\n",
    "            'M_mqn8_c',\n",
    "            'M_mql8_c',\n",
    "            'M_pep_c',\n",
    "            'M_hco3_c',\n",
    "            'M_pyr_c',\n",
    "            'M_o2_c',\n",
    "            'M_h2o2_c',\n",
    "            'M_actp_c',\n",
    "            'M_ac_c',\n",
    "            'M_ppi_c',\n",
    "            'M_amp_c',\n",
    "            'M_for_c',\n",
    "            'M_acald_c',\n",
    "            'M_lac__D_c',\n",
    "            'M_glu__L_c',\n",
    "            'M_2kmb_c',\n",
    "            'M_met__L_c',\n",
    "            'M_acorn_c',\n",
    "            'M_acg5sa_c',\n",
    "            'M_hcys__L_c',\n",
    "            'M_amet_c',\n",
    "            'M_ahcys_c',\n",
    "            'M_8aonn_c',\n",
    "            'M_amob_c',\n",
    "            'M_dann_c',\n",
    "            'M_dscl_c',\n",
    "            'M_uppg3_c',\n",
    "            'M_asp__L_c',\n",
    "            'M_asn__L_c',\n",
    "            'M_gln__L_c',\n",
    "            'M_chor_c',\n",
    "            'M_4adcho_c',\n",
    "            'M_adcobdam_c',\n",
    "            'M_adcobhex_c',\n",
    "            'M_1pyr5c_c',\n",
    "            'M_cys__L_c',\n",
    "            'M_acser_c',\n",
    "            'M_h2s_c',\n",
    "            'M_cpppg3_c',\n",
    "            'M_hmbil_c',\n",
    "            'M_pro__L_c',\n",
    "            'M_1pyr5c_c',\n",
    "            #'M_pro__L_c',\n",
    "            'M_3mob_c',\n",
    "            'M_3c3hmp_c',\n",
    "            'M_malcoa_c']\n",
    "\n",
    "for species in species_list:\n",
    "    #print sbml_model[species]\n",
    "    sbml_model[species] = 10.0\n"
   ]
  },
  {
   "cell_type": "code",
   "execution_count": 644,
   "metadata": {
    "collapsed": false
   },
   "outputs": [],
   "source": [
    "sim = sbml_model.simulate(0, 1000, 10000)"
   ]
  },
  {
   "cell_type": "code",
   "execution_count": 645,
   "metadata": {
    "collapsed": true
   },
   "outputs": [],
   "source": [
    "#print(sim)\n",
    "%matplotlib inline"
   ]
  },
  {
   "cell_type": "code",
   "execution_count": 646,
   "metadata": {
    "collapsed": false
   },
   "outputs": [
    {
     "data": {
      "image/png": "[encoded data removed]",
      "text/plain": [
       "<matplotlib.figure.Figure at 0x7fd1450bd610>"
      ]
     },
     "metadata": {},
     "output_type": "display_data"
    },
    {
     "data": {
      "image/png": "[encoded data removed]",
      "text/plain": [
       "<matplotlib.figure.Figure at 0x7fd1446577d0>"
      ]
     },
     "metadata": {},
     "output_type": "display_data"
    },
    {
     "data": {
      "image/png": "[encoded data removed]",
      "text/plain": [
       "<matplotlib.figure.Figure at 0x7fd145365710>"
      ]
     },
     "metadata": {},
     "output_type": "display_data"
    }
   ],
   "source": [
    "# plot\n",
    "#plot1 = sbml_model.plot(sim)\n",
    "columns_citrate = ['M_mal__L_c', 'M_oaa_c', 'M_cit_c', 'M_icit_c', 'M_akg_c', 'M_sdhlam_c', 'M_succoa_c', 'M_succ_c', 'M_fum_c']\n",
    "columns_pyruvat = ['M_pyr_c', 'M_accoa_c', 'M_ac_c', 'M_actp_c']\n",
    "columns_rest = ['M_amet_c', 'M_uppg3_c', 'M_glu__L_c', 'M_pro__L_c']\n",
    "\n",
    "columns_combined = columns_citrate + columns_pyruvat\n",
    "#print columns_pyruvat\n",
    "\n",
    "plot(sim, columns=columns_citrate, xscale='log')\n",
    "plt.show()\n",
    "plot(sim, columns=columns_pyruvat, xscale='log')\n",
    "plt.show()\n",
    "plot(sim, columns=columns_rest, xscale='log')\n",
    "\n"
   ]
  },
  {
   "cell_type": "code",
   "execution_count": null,
   "metadata": {
    "collapsed": true
   },
   "outputs": [],
   "source": []
  }
 ],
 "metadata": {
  "anaconda-cloud": {},
  "kernelspec": {
   "display_name": "Python [conda env:sysbio]",
   "language": "python",
   "name": "conda-env-sysbio-py"
  },
  "language_info": {
   "codemirror_mode": {
    "name": "ipython",
    "version": 2
   },
   "file_extension": ".py",
   "mimetype": "text/x-python",
   "name": "python",
   "nbconvert_exporter": "python",
   "pygments_lexer": "ipython2",
   "version": "2.7.13"
  }
 },
 "nbformat": 4,
 "nbformat_minor": 0
}
