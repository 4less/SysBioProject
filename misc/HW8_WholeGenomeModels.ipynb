{
 "cells": [
  {
   "cell_type": "markdown",
   "metadata": {},
   "source": [
    "### 1. Get the model and familiarize yourself with the iSB619"
   ]
  },
  {
   "cell_type": "markdown",
   "metadata": {},
   "source": [
    "#### 1.1 Download the iSB619 model from BIGG and read it in with libsbml"
   ]
  },
  {
   "cell_type": "markdown",
   "metadata": {},
   "source": [
    "hint: \n",
    "\n",
    "http://bigg.ucsd.edu/models/iSB619"
   ]
  },
  {
   "cell_type": "code",
   "execution_count": 4,
   "metadata": {
    "collapsed": false
   },
   "outputs": [
    {
     "name": "stderr",
     "output_type": "stream",
     "text": [
      "/opt/anaconda2/lib/python2.7/site-packages/tellurium/notebooks/__init__.py:16: UserWarning: Notebook tools are not imported, due to missing dependencies.\n",
      "  warnings.warn(\"Notebook tools are not imported, due to missing dependencies.\")\n"
     ]
    },
    {
     "data": {
      "text/plain": [
       "51300"
      ]
     },
     "execution_count": 4,
     "metadata": {},
     "output_type": "execute_result"
    }
   ],
   "source": [
    "import tellurium as te;\n",
    "from libsbml import *;\n",
    "import ast\n",
    "import cobra;\n",
    "\n",
    "reader = SBMLReader()\n",
    "document = reader.readSBMLFromFile('iSB619.xml')\n",
    "\n",
    "model = document.getModel()\n",
    "\n",
    "cobra_model = cobra.io.read_sbml_model('iSB619.xml')\n",
    "cobra.io.save_json_model(cobra_model, \"iSB619_test.json\")\n",
    "\n",
    "#cobra.io.save_json_model(model, \"original_model.json\")\n",
    "\n",
    "getLibSBMLVersion()"
   ]
  },
  {
   "cell_type": "markdown",
   "metadata": {},
   "source": [
    "#### 1.2 How many metabolites, reactions and compartments does the model have? "
   ]
  },
  {
   "cell_type": "code",
   "execution_count": 5,
   "metadata": {
    "collapsed": false
   },
   "outputs": [
    {
     "name": "stdout",
     "output_type": "stream",
     "text": [
      "species: 655\n",
      "reactions: 743\n",
      "compartments: 2\n"
     ]
    }
   ],
   "source": [
    "model = model.getModel()\n",
    "\n",
    "print 'species: ' + str(model.getNumSpecies())\n",
    "print 'reactions: ' + str(model.getNumReactions())\n",
    "print 'compartments: ' + str(model.getNumCompartments())"
   ]
  },
  {
   "cell_type": "markdown",
   "metadata": {},
   "source": [
    "#### 1.3 What are the compartments of the model?"
   ]
  },
  {
   "cell_type": "code",
   "execution_count": 8,
   "metadata": {
    "collapsed": true
   },
   "outputs": [],
   "source": [
    "def extract_sbml_by_group(sbml_document, group_id_list, destination):    \n",
    "    reduced_document = SBMLDocument(sbml_document)\n",
    "    rmodel = reduced_document.getModel()\n",
    "    rgroupsplugin = rmodel.getPlugin(\"groups\")\n",
    "    rgroupslist = rgroupsplugin.getListOfGroups()\n",
    "    \n",
    "    model = sbml_document.getModel()\n",
    "    groupsplugin = model.getPlugin(\"groups\")\n",
    "    \n",
    "    group_set =  set()\n",
    "    for group_id in group_id_list:\n",
    "        group_set.add(rgroupsplugin.getGroup(group_id))\n",
    "    \n",
    "    \n",
    "    reaction_set = set()\n",
    "    species_set = set()\n",
    "    \n",
    "    for group in group_set:\n",
    "        for member in group.getListOfMembers():\n",
    "            reaction_set.add(member.getIdRef())\n",
    "    \n",
    "    for reaction_id in reaction_set:\n",
    "        reaction = model.getReaction(reaction_id)\n",
    "        for reactant in reaction.getListOfReactants():\n",
    "            species_set.add(reactant.getSpecies())\n",
    "        for product in reaction.getListOfProducts():\n",
    "            species_set.add(product.getSpecies())\n",
    "    \n",
    "    # remove\n",
    "    for reaction in model.getListOfReactions():\n",
    "        if not reaction.getId() in reaction_set:\n",
    "            rmodel.removeReaction(reaction.getId())\n",
    "    \n",
    "    # also remove vertices\n",
    "    for species in model.getListOfSpecies():\n",
    "        if not species.getId() in species_set:\n",
    "            rmodel.removeSpecies(species.getId())\n",
    "\n",
    "    # and remove groups\n",
    "    for group_index in range(len(rgroupslist)-1, -1, -1):\n",
    "        group = rgroupslist.get(group_index)\n",
    "        if not group in group_set:\n",
    "            rgroupsplugin.removeGroup(group.getId())\n",
    "    \n",
    "    # remove fluxobjectives\n",
    "    rflux = rmodel.getPlugin('fbc')\n",
    "    rflux_list = rflux.getListOfObjectives()\n",
    "    rflux_list.removeFromParentAndDelete()\n",
    "    \n",
    "    print rmodel.getListOfSpecies()\n",
    "    print species_set\n",
    "    print rmodel.getListOfReactions()\n",
    "    print reaction_set\n",
    "    print len(rgroupsplugin.getListOfGroups())\n",
    "\n",
    "    rgroup = rgroupsplugin.getGroup(group_id)\n",
    "    print rgroup\n",
    "    \n",
    "    #for member in rgroup.getListOfMembers():\n",
    "    #    print member.getId()\n",
    "    \n",
    "    writer = SBMLWriter()\n",
    "    writer.writeSBMLToFile(reduced_document, destination)\n",
    "    return reduced_document\n",
    "    \n",
    "def sbml_to_json(sbml_document_name, destination):\n",
    "    cobra_model_part = cobra.io.read_sbml_model(sbml_document_name)\n",
    "    cobra.io.save_json_model(cobra_model_part, destination)\n",
    "    "
   ]
  },
  {
   "cell_type": "code",
   "execution_count": 9,
   "metadata": {
    "collapsed": false
   },
   "outputs": [
    {
     "name": "stdout",
     "output_type": "stream",
     "text": [
      "<ListOfSpecies[25]>\n",
      "set(['M_pyr_c', 'M_pi_c', 'M_h2o2_c', 'M_o2_c', 'M_atp_c', 'M_coa_c', 'M_hco3_c', 'M_malcoa_c', 'M_h2o_c', 'M_h_c', 'M_ac_c', 'M_mal__L_c', 'M_adp_c', 'M_accoa_c', 'M_nad_c', 'M_amp_c', 'M_co2_c', 'M_3c3hmp_c', 'M_nadh_c', 'M_ppi_c', 'M_actp_c', 'M_lac__D_c', 'M_3mob_c', 'M_for_c', 'M_acald_c'])\n",
      "<ListOfReactions[11]>\n",
      "set(['R_ME1', 'R_POX2', 'R_ALDD2x', 'R_ACCOAC', 'R_PTAr', 'R_ACKr', 'R_ACS', 'R_IPPS', 'R_LDH_D', 'R_ACALD', 'R_PFL'])\n",
      "0\n",
      "None\n",
      "<ListOfSpecies[60]>\n",
      "set(['M_asn__L_c', 'M_acorn_c', 'M_hcys__L_c', 'M_akg_c', 'M_nh4_c', 'M_trdox_c', 'M_pi_c', 'M_asp__L_c', 'M_acser_c', 'M_sl26da_c', 'M_amp_c', 'M_o2_c', 'M_atp_c', 'M_5mta_c', 'M_pap_c', 'M_glu__L_c', 'M_thr__L_c', 'M_1pyr5c_c', 'M_trdrd_c', 'M_gln__L_c', 'M_aspsa_c', 'M_so3_c', 'M_nad_c', 'M_5mtr_c', 'M_met__L_c', 'M_uamr_c', 'M_amet_c', 'M_acglu_c', 'M_succ_c', 'M_nadp_c', 'M_h2o_c', 'M_h2s_c', 'M_so4_c', 'M_so4_e', 'M_gdp_c', 'M_ac_c', 'M_ala__L_c', 'M_ade_c', 'M_cys__L_c', 'M_adp_c', 'M_acg5p_c', 'M_paps_c', 'M_nadph_c', 'M_dkmpp_c', 'M_uama_c', 'M_4pasp_c', 'M_for_c', 'M_ahcys_c', 'M_5mdr1p_c', 'M_pro__L_c', 'M_h_c', 'M_acg5sa_c', 'M_gtp_c', 'M_nadh_c', 'M_2obut_c', 'M_ppi_c', 'M_2kmb_c', 'M_26dap_LL_c', 'M_5mdru1p_c', 'M_aps_c'])\n",
      "<ListOfReactions[24]>\n",
      "set(['R_DKMPPD2', 'R_P5CR', 'R_ADSK', 'R_SULabc', 'R_MTRK', 'R_ASNS1', 'R_P5CD', 'R_UNK3', 'R_MTAN', 'R_ACOTA', 'R_SDPDS', 'R_HCYSMT', 'R_THRD_L', 'R_MTRI', 'R_PAPSR', 'R_ACGK', 'R_MDRPD', 'R_CYSS', 'R_DKMPPD', 'R_UAMAS', 'R_ASAD', 'R_BPNT', 'R_SULR', 'R_SADT2'])\n",
      "0\n",
      "None\n"
     ]
    },
    {
     "name": "stderr",
     "output_type": "stream",
     "text": [
      "cobra/io/sbml3.py:356 \u001b[1;31mUserWarning\u001b[0m: listOfObjectives element not found\n"
     ]
    },
    {
     "name": "stdout",
     "output_type": "stream",
     "text": [
      "<ListOfSpecies[32]>\n",
      "set(['M_akg_c', 'M_dhlam_c', 'M_pyr_c', 'M_pi_c', 'M_mqn8_c', 'M_fad_c', 'M_atp_c', 'M_coa_c', 'M_hco3_c', 'M_1pyr5c_c', 'M_nad_c', 'M_sdhlam_c', 'M_fadh2_c', 'M_nadp_c', 'M_h2o_c', 'M_succ_c', 'M_h_c', 'M_pep_c', 'M_pro__L_c', 'M_fum_c', 'M_mal__L_c', 'M_adp_c', 'M_accoa_c', 'M_nadph_c', 'M_succoa_c', 'M_oaa_c', 'M_icit_c', 'M_co2_c', 'M_lpam_c', 'M_nadh_c', 'M_cit_c', 'M_mql8_c'])\n",
      "<ListOfReactions[14]>\n",
      "set(['R_MDH3', 'R_PC', 'R_AKGDb', 'R_PROD2', 'R_ICDHyr', 'R_NADTRHD', 'R_FUM', 'R_ACONT', 'R_AKGDa', 'R_SUCOAS', 'R_SUCD1', 'R_MDH', 'R_PPCK', 'R_CS'])\n",
      "0\n",
      "None\n",
      "<ListOfSpecies[64]>\n",
      "set(['M_ala__L_c', 'M_ppbng_c', 'M_6hmhptpp_c', 'M_cpppg1_c', 'M_s_c', 'M_4ppan_c', 'M_uppg3_c', 'M_pi_c', 'M_chor_c', 'M_4ppcys_c', 'M_6hmhpt_c', 'M_o2_c', 'M_atp_c', 'M_coa_c', 'M_glu__L_c', 'M_amob_c', 'M_sucbz_c', 'M_gln__L_c', 'M_uppg1_c', 'M_for_c', 'M_hemeO_c', 'M_amet_c', 'M_5aop_c', 'M_2dhp_c', 'M_sbzcoa_c', 'M_nadp_c', 'M_pmcoa_c', 'M_h2o_c', 'M_cys__L_c', 'M_adcobdam_c', 'M_db4p_c', 'M_dann_c', 'M_dpcoa_c', 'M_hmbil_c', 'M_hemeA_c', 'M_glyclt_c', 'M_8aonn_c', 'M_adp_c', 'M_cmp_c', 'M_ppp9_c', 'M_pant__R_c', 'M_nadph_c', 'M_pppg9_c', 'M_pnto__R_c', 'M_dscl_c', 'M_glu1sa_c', 'M_nad_c', 'M_ahcys_c', 'M_amp_c', 'M_dtbt_c', 'M_co2_c', 'M_adcobhex_c', 'M_h_c', 'M_cpppg3_c', 'M_gcald_c', 'M_4adcho_c', 'M_ru5p__D_c', 'M_nadh_c', 'M_pan4p_c', 'M_ppi_c', 'M_ctp_c', 'M_h2s_c', 'M_btn_c', 'M_pime_c'])\n",
      "<ListOfReactions[25]>\n",
      "set(['R_PPNCL2', 'R_HPPK2', 'R_SUCBZL', 'R_GCALDD', 'R_ADCS', 'R_DBTS', 'R_UPP3S', 'R_UPPDC2', 'R_UPPDC1', 'R_DB4PS', 'R_PPPGO', 'R_DPR', 'R_ADCYRS', 'R_HEMEAS', 'R_DPCOAK', 'R_CHCOAL', 'R_BTS3r', 'R_PNTK', 'R_AMAOTr', 'R_PPBNGS', 'R_G1SAT', 'R_PTPATi', 'R_AOXSr', 'R_PPCDC', 'R_UPP3MT'])\n",
      "0\n",
      "None\n",
      "<ListOfSpecies[128]>\n",
      "set(['M_acorn_c', 'M_hcys__L_c', 'M_pnto__R_c', 'M_cpppg1_c', 'M_dkmpp_c', 'M_lpam_c', 'M_chor_c', 'M_amob_c', 'M_5mta_c', 'M_pap_c', 'M_glu__L_c', 'M_malcoa_c', 'M_gtp_c', 'M_nadp_c', 'M_h2o_c', 'M_5mdr1p_c', 'M_adcobdam_c', 'M_ac_c', 'M_adp_c', 'M_paps_c', 'M_pppg9_c', 'M_succoa_c', 'M_nh4_c', 'M_icit_c', 'M_amp_c', 'M_dtbt_c', 'M_gcald_c', 'M_4adcho_c', 'M_3c3hmp_c', 'M_2obut_c', 'M_ppi_c', 'M_h2s_c', 'M_lac__D_c', 'M_asn__L_c', 'M_pyr_c', 'M_asp__L_c', 'M_4ppcys_c', 'M_acglu_c', 'M_coa_c', 'M_trdrd_c', 'M_so3_c', 'M_sdhlam_c', 'M_2dhp_c', 'M_succ_c', 'M_ala__L_c', 'M_glyclt_c', 'M_cmp_c', 'M_ppp9_c', 'M_aspsa_c', 'M_amet_c', 'M_db4p_c', 'M_ade_c', 'M_cpppg3_c', 'M_thr__L_c', 'M_ctp_c', 'M_acald_c', 'M_btn_c', 'M_pime_c', 'M_ppbng_c', 'M_6hmhptpp_c', 'M_4ppan_c', 'M_pi_c', 'M_mqn8_c', 'M_fad_c', 'M_h2o2_c', 'M_o2_c', 'M_atp_c', 'M_hco3_c', 'M_1pyr5c_c', 'M_dscl_c', 'M_gln__L_c', 'M_uppg1_c', 'M_for_c', 'M_5mtr_c', 'M_met__L_c', 'M_uamr_c', 'M_h_c', 'M_dann_c', 'M_co2_c', 'M_s_c', 'M_pep_c', 'M_acg5p_c', 'M_accoa_c', 'M_uama_c', 'M_4pasp_c', 'M_oaa_c', 'M_mal__L_c', 'M_adcobhex_c', 'M_cys__L_c', 'M_ru5p__D_c', 'M_pan4p_c', 'M_pant__R_c', 'M_actp_c', 'M_26dap_LL_c', 'M_cit_c', 'M_5mdru1p_c', 'M_akg_c', 'M_trdox_c', 'M_dhlam_c', 'M_uppg3_c', 'M_acser_c', 'M_sl26da_c', 'M_6hmhpt_c', 'M_sucbz_c', 'M_5aop_c', 'M_hemeO_c', 'M_sbzcoa_c', 'M_fadh2_c', 'M_pmcoa_c', 'M_so4_c', 'M_so4_e', 'M_gdp_c', 'M_dpcoa_c', 'M_hmbil_c', 'M_fum_c', 'M_glu1sa_c', 'M_nadph_c', 'M_nad_c', 'M_ahcys_c', 'M_hemeA_c', 'M_pro__L_c', 'M_acg5sa_c', 'M_nadh_c', 'M_2kmb_c', 'M_8aonn_c', 'M_mql8_c', 'M_3mob_c', 'M_aps_c'])\n",
      "<ListOfReactions[74]>\n",
      "set(['R_ME1', 'R_ADCS', 'R_DKMPPD2', 'R_P5CR', 'R_ADSK', 'R_HPPK2', 'R_ALDD2x', 'R_SULabc', 'R_PTAr', 'R_NADTRHD', 'R_ACS', 'R_AKGDa', 'R_ACCOAC', 'R_SUCBZL', 'R_SUCD1', 'R_ACALD', 'R_LDH_D', 'R_MDH3', 'R_MTRK', 'R_ASNS1', 'R_P5CD', 'R_UNK3', 'R_MTAN', 'R_ACOTA', 'R_DPCOAK', 'R_UPPDC2', 'R_SDPDS', 'R_DBTS', 'R_UPP3S', 'R_HCYSMT', 'R_UPPDC1', 'R_DB4PS', 'R_THRD_L', 'R_AOXSr', 'R_MTRI', 'R_PAPSR', 'R_PPNCL2', 'R_CS', 'R_GCALDD', 'R_PPPGO', 'R_SUCOAS', 'R_PC', 'R_PROD2', 'R_ICDHyr', 'R_ACGK', 'R_DPR', 'R_ACONT', 'R_MDRPD', 'R_CYSS', 'R_DKMPPD', 'R_HEMEAS', 'R_UAMAS', 'R_PFL', 'R_CHCOAL', 'R_BTS3r', 'R_ASAD', 'R_ACKr', 'R_PNTK', 'R_AKGDb', 'R_PPCK', 'R_AMAOTr', 'R_PPBNGS', 'R_G1SAT', 'R_UPP3MT', 'R_FUM', 'R_BPNT', 'R_PTPATi', 'R_ADCYRS', 'R_IPPS', 'R_SULR', 'R_POX2', 'R_PPCDC', 'R_MDH', 'R_SADT2'])\n",
      "0\n",
      "None\n"
     ]
    }
   ],
   "source": [
    "extract_sbml_by_group(document,['g4'], 'g4.xml')\n",
    "sbml_to_json('g4.xml', 'g4.json')\n",
    "\n",
    "extract_sbml_by_group(document,['g6'], 'g6.xml')\n",
    "sbml_to_json('g6.xml', 'g6.json')\n",
    "\n",
    "extract_sbml_by_group(document,['g12'], 'g12.xml')\n",
    "sbml_to_json('g12.xml', 'g12.json')\n",
    "\n",
    "extract_sbml_by_group(document,['g14'], 'g14.xml')\n",
    "sbml_to_json('g14.xml', 'g14.json')\n",
    "\n",
    "extract_sbml_by_group(document,['g4', 'g6', 'g12', 'g14'], 'g4-6-12-14.xml')\n",
    "sbml_to_json('g4-6-12-14.xml', 'g4-6-12-14.json')\n"
   ]
  },
  {
   "cell_type": "markdown",
   "metadata": {},
   "source": [
    "### 2. For every reaction id in the model get the corresponding KEGG reaction id"
   ]
  },
  {
   "cell_type": "code",
   "execution_count": null,
   "metadata": {
    "collapsed": true
   },
   "outputs": [],
   "source": []
  }
 ],
 "metadata": {
  "anaconda-cloud": {},
  "kernelspec": {
   "display_name": "Python [Root]",
   "language": "python",
   "name": "Python [Root]"
  },
  "language_info": {
   "codemirror_mode": {
    "name": "ipython",
    "version": 2
   },
   "file_extension": ".py",
   "mimetype": "text/x-python",
   "name": "python",
   "nbconvert_exporter": "python",
   "pygments_lexer": "ipython2",
   "version": "2.7.11"
  }
 },
 "nbformat": 4,
 "nbformat_minor": 1
}
