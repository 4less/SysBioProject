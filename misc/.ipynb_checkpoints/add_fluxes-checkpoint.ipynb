{
 "cells": [
  {
   "cell_type": "code",
   "execution_count": null,
   "metadata": {
    "collapsed": true
   },
   "outputs": [],
   "source": [
    "import tellurium as te;\n",
    "from libsbml import *;\n",
    "import ast\n",
    "import cobra;\n",
    "\n",
    "reader = SBMLReader()\n",
    "document = reader.readSBMLFromFile('iSB619.xml')\n",
    "\n",
    "model = document.getModel()\n"
   ]
  },
  {
   "cell_type": "code",
   "execution_count": null,
   "metadata": {
    "collapsed": true
   },
   "outputs": [],
   "source": [
    "reaction = Reaction(3, 1)\n",
    "\n",
    "species = model.getSpecies(\"M_acser_c\")\n",
    "reaction.setId(\"R_EX_acser_c\")\n",
    "reaction.setReversible(False)\n",
    "reaction.setFast(False)\n",
    "reaction.addProduct(species, 1)\n",
    "model.addReaction(reaction);\n",
    "\n",
    "newreaction = model.getReaction(\"R_EX_acser_c\")\n",
    "if newreaction is None:\n",
    "    print \"None\"\n",
    "else:\n",
    "    print \"notNone\"\n",
    "    \n",
    "\n",
    "reaction = Reaction(3, 1)\n",
    "\n",
    "species = model.getSpecies(\"M_acald_c\")\n",
    "reaction.setId(\"R_EX_acald_c\")\n",
    "reaction.setReversible(False)\n",
    "reaction.setFast(False)\n",
    "reaction.addProduct(species, 1)\n",
    "model.addReaction(reaction)\n",
    "\n",
    "reaction = Reaction(3, 1)\n",
    "\n",
    "species = model.getSpecies(\"M_3c3hmp_c\")\n",
    "reaction.setId(\"R_EX_3c3hmp_c\")\n",
    "reaction.setReversible(False)\n",
    "reaction.setFast(False)\n",
    "reaction.addReactant(species, 1)\n",
    "model.addReaction(reaction)\n",
    "\n",
    "writer = SBMLWriter()\n",
    "writer.writeSBMLToFile(model.getSBMLDocument(), 'test_addreactions.xml')\n",
    "\n"
   ]
  }
 ],
 "metadata": {
  "kernelspec": {
   "display_name": "Python [Root]",
   "language": "python",
   "name": "Python [Root]"
  },
  "language_info": {
   "codemirror_mode": {
    "name": "ipython",
    "version": 2
   },
   "file_extension": ".py",
   "mimetype": "text/x-python",
   "name": "python",
   "nbconvert_exporter": "python",
   "pygments_lexer": "ipython2",
   "version": "2.7.11"
  }
 },
 "nbformat": 4,
 "nbformat_minor": 0
}
