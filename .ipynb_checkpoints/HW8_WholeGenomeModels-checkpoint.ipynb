{
 "cells": [
  {
   "cell_type": "markdown",
   "metadata": {},
   "source": [
    "### 1. Get the model and familiarize yourself with the iSB619"
   ]
  },
  {
   "cell_type": "markdown",
   "metadata": {},
   "source": [
    "#### 1.1 Download the iSB619 model from BIGG and read it in with libsbml"
   ]
  },
  {
   "cell_type": "markdown",
   "metadata": {},
   "source": [
    "hint: \n",
    "\n",
    "http://bigg.ucsd.edu/models/iSB619"
   ]
  },
  {
   "cell_type": "code",
   "execution_count": 12,
   "metadata": {
    "collapsed": false
   },
   "outputs": [
    {
     "data": {
      "text/plain": [
       "51300"
      ]
     },
     "execution_count": 12,
     "metadata": {},
     "output_type": "execute_result"
    }
   ],
   "source": [
    "import tellurium as te;\n",
    "from libsbml import *;\n",
    "import ast\n",
    "import cobra;\n",
    "\n",
    "reader = SBMLReader()\n",
    "document = reader.readSBMLFromFile('iSB619.xml')\n",
    "\n",
    "model = document.getModel()\n",
    "\n",
    "cobra_model = cobra.io.read_sbml_model('iSB619.xml')\n",
    "cobra.io.save_json_model(cobra_model, \"iSB619_test.json\")\n",
    "\n",
    "#cobra.io.save_json_model(model, \"original_model.json\")\n",
    "\n",
    "getLibSBMLVersion()"
   ]
  },
  {
   "cell_type": "markdown",
   "metadata": {},
   "source": [
    "#### 1.2 How many metabolites, reactions and compartments does the model have? "
   ]
  },
  {
   "cell_type": "code",
   "execution_count": 3,
   "metadata": {
    "collapsed": false
   },
   "outputs": [
    {
     "name": "stdout",
     "output_type": "stream",
     "text": [
      "species: 655\n",
      "reactions: 743\n",
      "compartments: 2\n"
     ]
    }
   ],
   "source": [
    "model = model.getModel()\n",
    "\n",
    "print 'species: ' + str(model.getNumSpecies())\n",
    "print 'reactions: ' + str(model.getNumReactions())\n",
    "print 'compartments: ' + str(model.getNumCompartments())"
   ]
  },
  {
   "cell_type": "markdown",
   "metadata": {},
   "source": [
    "#### 1.3 What are the compartments of the model?"
   ]
  },
  {
   "cell_type": "code",
   "execution_count": 55,
   "metadata": {
    "collapsed": false,
    "scrolled": false
   },
   "outputs": [],
   "source": [
    "groups = model.getPlugin(\"groups\")\n",
    "groupModel = groups.getListOfGroups()\n",
    "\n",
    "groupnames = ['g1']\n",
    "\n",
    "for group in groupModel:\n",
    "    if group.getId() != extract_group:\n",
    "        groupnames.append(group.getId())\n",
    "    \n",
    "reaction_set = set()\n",
    "species_set = set()\n",
    "\n",
    "#reaciotns\n",
    "for group_id in groupnames:\n",
    "#    group = groups.getGroup(group_id)\n",
    "#    for reaction in group.getListOfMembers():\n",
    "#        reaction_set.add(reaction.getIdRef())\n",
    "        \n",
    "for reaction_id in reaction_set:\n",
    "    #print reaction_id\n",
    "    reaction = model.getReaction(reaction_id)\n",
    "    #print reaction\n",
    "    for reactant in reaction.getListOfReactants():\n",
    "        species_set.add(reactant.getSpecies())\n",
    "    for product in reaction.getListOfProducts():\n",
    "        species_set.add(product.getSpecies())\n",
    "\n",
    "sbml_document_part = SBMLDocument(document)\n",
    "sbml_model_part = sbml_document_part.getModel()\n",
    "sbml_model_part_groups_plugin = sbml_model_part.getPlugin(\"groups\")\n",
    "sbml_model_part_groups = sbml_model_part_groups_plugin.getListOfGroups()\n",
    "\n",
    "#remove\n",
    "for reaction in model.getListOfReactions():\n",
    "    if not reaction.getId() in reaction_set:\n",
    "        sbml_model_part.removeReaction(reaction.getId())\n",
    "    \n",
    "# also remove vertices\n",
    "for species in model.getListOfSpecies():\n",
    "    if not species.getId() in species_set:\n",
    "        sbml_model_part.removeSpecies(species.getId())\n",
    "\n",
    "for group_index in range(len(sbml_model_part_groups), 0):\n",
    "    group = sbml_model_part_groups[group_index]\n",
    "    if not group in groupnames:\n",
    "        sbml_model_part_groups_plugin.removeGroup(group)\n",
    "\n",
    "        \n",
    "flux_objectives = sbml_model_part.getPlugin('fbc')\n",
    "fluxList = flux_objectives.getListOfObjectives()\n",
    "fluxList.removeFromParentAndDelete()\n",
    "\n",
    "writer = SBMLWriter()\n",
    "writer.writeSBMLToFile(sbml_document_part, \"claus_kleber.xml\")\n",
    "\n",
    "cobra_model_part = cobra.io.read_sbml_model(\"claus_kleber.xml\")\n",
    "cobra.io.save_json_model(cobra_model_part, \"claus_kleber.json\")"
   ]
  },
  {
   "cell_type": "markdown",
   "metadata": {},
   "source": [
    "### 2. For every reaction id in the model get the corresponding KEGG reaction id"
   ]
  },
  {
   "cell_type": "code",
   "execution_count": null,
   "metadata": {
    "collapsed": true
   },
   "outputs": [],
   "source": []
  }
 ],
 "metadata": {
  "anaconda-cloud": {},
  "kernelspec": {
   "display_name": "Python [Root]",
   "language": "python",
   "name": "Python [Root]"
  },
  "language_info": {
   "codemirror_mode": {
    "name": "ipython",
    "version": 2
   },
   "file_extension": ".py",
   "mimetype": "text/x-python",
   "name": "python",
   "nbconvert_exporter": "python",
   "pygments_lexer": "ipython2",
   "version": "2.7.11"
  }
 },
 "nbformat": 4,
 "nbformat_minor": 1
}
